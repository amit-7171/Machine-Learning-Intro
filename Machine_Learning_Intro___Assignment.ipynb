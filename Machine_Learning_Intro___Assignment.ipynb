{
  "nbformat": 4,
  "nbformat_minor": 0,
  "metadata": {
    "colab": {
      "provenance": []
    },
    "kernelspec": {
      "name": "python3",
      "display_name": "Python 3"
    },
    "language_info": {
      "name": "python"
    }
  },
  "cells": [
    {
      "cell_type": "markdown",
      "source": [
        "Question 1: Explain the differences between AI, ML, Deep Learning (DL), and Data\n",
        "Science (DS)   \n",
        "Answer- Artificial Intelligence (AI)\n",
        "AI is the broadest field of computer science aimed at creating machines that can perform tasks that typically require human intelligence, such as reasoning, problem-solving, perception, and decision-making. AI systems can be rule-based (explicitly programmed) or data-driven (learning from data). It is the overarching concept or goal.\n",
        "\n",
        "\n",
        "\n",
        "Machine Learning (ML)\n",
        "ML is a subset of AI that focuses on developing algorithms and models that allow a computer to learn from data and improve its performance on a specific task without being explicitly programmed for every possible scenario. Instead of being given a set of rules, the machine learns to identify patterns and make predictions from the data it is trained on. Think of it as teaching a computer to learn from examples.\n",
        "\n",
        "\n",
        "Deep Learning (DL)\n",
        "DL is a subset of ML that uses a specific type of algorithm called artificial neural networks with multiple layers (hence \"deep\"). Inspired by the structure of the human brain, these networks are particularly effective at learning from and processing vast amounts of unstructured data like images, audio, and text. DL has enabled significant breakthroughs in areas like computer vision and natural language processing.\n",
        "\n",
        "\n",
        "\n",
        "Data Science (DS)\n",
        "DS is a multidisciplinary field that uses scientific methods, processes, algorithms, and systems to extract knowledge and insights from structured and unstructured data. Data scientists use a combination of statistics, domain expertise, and computer science to analyze data and uncover patterns. While it often uses tools like ML and DL, its scope is broader, encompassing the entire data lifecycle from collection and cleaning to analysis and communication of results.   \n",
        "\n",
        "Question 2: What are the types of machine learning? Describe each with one\n",
        "real-world example.   \n",
        "Answer- There are three primary types of machine learning: supervised, unsupervised, and reinforcement learning.\n",
        "\n",
        "1. Supervised Learning\n",
        "In supervised learning, the model is trained on a labeled dataset, which means the training data includes both the input features and the corresponding correct output (the \"label\"). The model learns to map inputs to outputs by finding patterns and relationships in the data. Think of it like a student learning from a teacher who provides correct answers for every practice problem.\n",
        "\n",
        "\n",
        "Real-world example: A spam email filter. The model is trained on a large dataset of emails that have been manually labeled as either \"spam\" or \"not spam.\" It learns to identify characteristics (e.g., specific keywords, sender information, or grammatical errors) that are associated with spam. When a new email arrives, the model uses what it has learned to predict whether it's spam and filter it accordingly.\n",
        "\n",
        "\n",
        "\n",
        "\n",
        "2. Unsupervised Learning\n",
        "Unlike supervised learning, unsupervised learning involves training a model on an unlabeled dataset, where there are no correct outputs provided. The goal is for the model to find hidden patterns, structures, or groupings within the data on its own. It's like a student who is given a collection of objects and told to sort them into groups without any prior instructions on what the groups should be.\n",
        "\n",
        "\n",
        "\n",
        "Real-world example: Customer segmentation for marketing. A company has a database of customer data (e.g., purchase history, browsing behavior, demographics) but doesn't have pre-defined customer groups. An unsupervised learning algorithm can analyze this data and automatically identify distinct segments of customers with similar behaviors. This allows the company to create targeted marketing campaigns for each group, like sending specific promotions to \"high spenders\" or \"first-time buyers.\"\n",
        "\n",
        "\n",
        "\n",
        "3. Reinforcement Learning\n",
        "\n",
        "\n",
        "Reinforcement learning trains a model (an \"agent\") to make a sequence of decisions in an environment to achieve a specific goal. The agent learns through a system of rewards and penalties for its actions. It takes an action, receives feedback (a reward for a good action or a penalty for a bad one), and uses that feedback to learn the optimal strategy or \"policy\" to maximize its cumulative reward over time.\n",
        "\n",
        "\n",
        "\n",
        "Real-world example: An autonomous robot learning to navigate a maze. The robot is the agent, the maze is the environment, and its goal is to reach the end. The robot receives a small positive reward for every step it takes toward the goal and a large negative penalty if it hits a wall. Over many trials, the robot learns which actions lead to the highest cumulative reward, eventually finding the most efficient path through the maze without being explicitly programmed with the directions.   \n",
        "\n",
        "Question 3: Define overfitting, underfitting, and the bias-variance tradeoff in machine\n",
        "learning.   \n",
        "Answer- Overfitting\n",
        "Overfitting occurs when a machine learning model learns the training data and its noise too well, to the point that it can't generalize to new, unseen data. The model essentially memorizes the training set rather than learning the underlying patterns. This leads to a model with very high accuracy on the training data but poor performance on a test dataset. It's like a student who memorizes every answer in a textbook without understanding the concepts and then fails the final exam because the questions are slightly different.\n",
        "\n",
        "Underfitting\n",
        "Underfitting is the opposite of overfitting. It happens when a model is too simple to capture the underlying patterns in the training data. The model doesn't learn enough from the training set, resulting in poor performance on both the training data and new, unseen data. This is often caused by using a model that is not complex enough for the task, like trying to fit a straight line to data that clearly follows a curve. It's like a student who doesn't study enough and fails both the practice tests and the final exam.\n",
        "\n",
        "Bias-Variance Tradeoff\n",
        "The bias-variance tradeoff is a fundamental concept that describes the relationship between a model's complexity and its performance.\n",
        "\n",
        "Bias is the error introduced by an overly simplistic model that makes strong assumptions about the data (underfitting). A high-bias model has a hard time capturing the true relationship between features and the target variable.\n",
        "\n",
        "Variance is the error from a model's sensitivity to small fluctuations in the training data (overfitting). A high-variance model performs well on the training data but its predictions change significantly when the training data changes, making it unreliable for new data.\n",
        "\n",
        "The \"tradeoff\" means that as you decrease bias by making a model more complex, its variance tends to increase, and vice versa. The goal is to find the \"sweet spot\" of model complexity that balances bias and variance to achieve the lowest total error on new, unseen data.    \n",
        "\n",
        "Question 4: What are outliers in a dataset, and list three common techniques for\n",
        "handling them.     \n",
        "Answer- Outliers are data points in a dataset that are significantly different from the other observations. They can be genuine, extreme values or errors from data collection. Because they can skew statistical analyses and negatively impact the performance of machine learning models, handling them is a crucial step in data preprocessing.\n",
        "\n",
        "1. Removing Outliers (Trimming)\n",
        "This is the simplest method, where the identified outlier data points are completely removed from the dataset. This approach is best when you are confident that the outliers are due to data entry errors or are not representative of the underlying data distribution.\n",
        "\n",
        "Pros: It's straightforward and can improve model performance if the outliers are indeed errors.\n",
        "\n",
        "Cons: It leads to a loss of valuable information, and if the outliers are genuine, this method can introduce bias into the dataset and make the model less representative of the real world. This is not recommended for small datasets where every data point is important.\n",
        "\n",
        "2. Imputation (Replacing Outliers)\n",
        "This technique involves replacing the outlier value with a less extreme value. This method is preferred when you want to avoid losing data. Common imputation values include the median, mean, or a value based on a statistical method like the Interquartile Range (IQR) method.\n",
        "\n",
        "Pros: It retains all the data points, preventing information loss. This is especially useful for smaller datasets.\n",
        "\n",
        "Cons: Replacing outliers with a central tendency measure (like the mean or median) can introduce new bias and reduce the variance of the data, which may not be ideal.\n",
        "\n",
        "3. Data Transformation\n",
        "Data transformation involves applying a mathematical function to the data to reduce the impact of outliers without removing or replacing them. This is particularly useful for skewed distributions where a few large values are pulling the mean.\n",
        "\n",
        "Pros: This method preserves the information in the dataset and can make the data more suitable for certain algorithms that assume a normal distribution.\n",
        "\n",
        "Cons: The transformed data may be more difficult to interpret. Some common transformations include log transformation (useful for positively skewed data) and square root transformation.   \n",
        "\n",
        "Question 5: Explain the process of handling missing values and mention one\n",
        "imputation technique for numerical and one for categorical data.   \n",
        "Answer- Handling missing values is a critical step in data preprocessing because many machine learning algorithms cannot function with incomplete data. The process involves identifying missing data and then deciding on an appropriate strategy to replace or remove it.\n",
        "\n",
        "The Process of Handling Missing Values\n",
        "Identify Missing Values: The first step is to detect which parts of the dataset have missing values. This can be done by looking for placeholder values like NaN, Null, None, or even a blank space. A common practice is to check the percentage of missing values per column. If a column has too many missing values (e.g., over 50%), it might be best to drop it entirely to avoid introducing significant bias.\n",
        "\n",
        "Choose a Strategy: Based on the type of data and the amount of missingness, you choose a method to handle it. The main options are deletion or imputation.\n",
        "\n",
        "Deletion: You can remove the entire row or column containing the missing value. This is a simple approach but can lead to a significant loss of data, especially if many rows have even a single missing value.\n",
        "\n",
        "Imputation: This involves replacing the missing value with a calculated estimate. This method is preferred when data loss would be detrimental to the model's performance.\n",
        "\n",
        "Apply the Technique: Once a strategy is chosen, you apply the specific technique to clean the dataset. This is where imputation methods come into play.\n",
        "\n",
        "Imputation Techniques\n",
        "1. For Numerical Data: Median Imputation\n",
        "\n",
        "Median imputation is a robust technique for numerical data where missing values are replaced with the median of the non-missing values in that column. The median is the middle value in a sorted list of numbers and is less sensitive to outliers than the mean.\n",
        "\n",
        "Example: Imagine a dataset of house prices where some entries are missing. If the median price of all known houses is $250,000, you would fill every missing price with that value. This prevents a few extremely high or low prices from skewing the imputation.\n",
        "\n",
        "2. For Categorical Data: Mode Imputation\n",
        "\n",
        "Mode imputation is a simple and effective technique for categorical data. The missing values are replaced with the mode, which is the most frequently occurring value in the column.\n",
        "\n",
        "Example: In a survey dataset, if a column for \"Favorite Color\" has missing entries, you would count the frequency of each color (e.g., Red: 50, Blue: 30, Green: 20). Since Red is the mode, you would replace all missing values with \"Red\". This ensures the imputed data remains a valid category and doesn't introduce a new, meaningless value.    \n",
        "\n",
        "Question 6: Write a Python program that:\n",
        "● Creates a synthetic imbalanced dataset with make_classification() from\n",
        "sklearn.datasets.\n",
        "● Prints the class distribution    \n",
        "Answer-"
      ],
      "metadata": {
        "id": "sdmBycwuSllq"
      }
    },
    {
      "cell_type": "code",
      "source": [
        "import numpy as np\n",
        "from collections import Counter\n",
        "from sklearn.datasets import make_classification\n",
        "\n",
        "# Let's start with a friendly message to introduce the program.\n",
        "print(\"Hello! This program will generate a synthetic imbalanced dataset.\")\n",
        "print(\"-\" * 50)\n",
        "\n",
        "# Create a synthetic imbalanced dataset.\n",
        "# The 'n_samples' parameter sets the total number of data points.\n",
        "# The 'n_features' parameter sets the number of features for each data point.\n",
        "# The 'n_informative' parameter sets the number of features that are\n",
        "# actually useful for classification.\n",
        "# The 'n_redundant' parameter sets the number of redundant features.\n",
        "# The 'n_classes' parameter sets the number of classes.\n",
        "# The 'weights' parameter is crucial for creating an imbalanced dataset.\n",
        "# It's a list or array of floats representing the proportion of samples\n",
        "# assigned to each class. For an imbalanced dataset, these weights should\n",
        "# not be equal. Here, we'll create a 95:5 split for two classes.\n",
        "# The 'random_state' parameter ensures reproducibility.\n",
        "X, y = make_classification(n_samples=1000,\n",
        "                           n_features=20,\n",
        "                           n_informative=2,\n",
        "                           n_redundant=2,\n",
        "                           n_classes=2,\n",
        "                           weights=[0.95, 0.05],\n",
        "                           random_state=42)\n",
        "\n",
        "# Now, let's get and print the class distribution.\n",
        "# We'll use Counter to easily count the occurrences of each class label.\n",
        "class_distribution = Counter(y)\n",
        "\n",
        "print(\"Dataset created successfully.\")\n",
        "print(\"\\nHere is the class distribution of the generated dataset:\")\n",
        "print(class_distribution)\n",
        "\n",
        "# Print a friendly closing message.\n",
        "print(\"-\" * 50)\n",
        "print(\"Program finished. You can now use this dataset for further analysis or model training.\")\n"
      ],
      "metadata": {
        "colab": {
          "base_uri": "https://localhost:8080/"
        },
        "id": "cUirGOWAU0Wj",
        "outputId": "915fd8dd-5302-42ef-a3d3-9cec12423763"
      },
      "execution_count": 1,
      "outputs": [
        {
          "output_type": "stream",
          "name": "stdout",
          "text": [
            "Hello! This program will generate a synthetic imbalanced dataset.\n",
            "--------------------------------------------------\n",
            "Dataset created successfully.\n",
            "\n",
            "Here is the class distribution of the generated dataset:\n",
            "Counter({np.int64(0): 947, np.int64(1): 53})\n",
            "--------------------------------------------------\n",
            "Program finished. You can now use this dataset for further analysis or model training.\n"
          ]
        }
      ]
    },
    {
      "cell_type": "markdown",
      "source": [
        "Question 7: Implement one-hot encoding using pandas for the following list of colors:\n",
        "['Red', 'Green', 'Blue', 'Green', 'Red']. Print the resulting dataframe.   \n",
        "Answer-"
      ],
      "metadata": {
        "id": "P6WtdvpnU4Up"
      }
    },
    {
      "cell_type": "code",
      "source": [
        "import pandas as pd\n",
        "\n",
        "# Let's start with a friendly message to introduce the program.\n",
        "print(\"Hello! This program will demonstrate how to perform one-hot encoding.\")\n",
        "print(\"-\" * 50)\n",
        "\n",
        "# Define the list of colors to be encoded.\n",
        "colors = ['Red', 'Green', 'Blue', 'Green', 'Red']\n",
        "\n",
        "# Create a pandas DataFrame from the list.\n",
        "df = pd.DataFrame(colors, columns=['Color'])\n",
        "\n",
        "print(\"Original DataFrame:\")\n",
        "print(df)\n",
        "print(\"\\n\" + \"-\" * 50)\n",
        "\n",
        "# Perform one-hot encoding using pd.get_dummies().\n",
        "# This function converts categorical variables into dummy/indicator variables.\n",
        "# Each unique value in the 'Color' column becomes a new column.\n",
        "# A '1' is placed in the column corresponding to the original value, and '0's elsewhere.\n",
        "one_hot_encoded_df = pd.get_dummies(df, columns=['Color'], prefix='Is')\n",
        "\n",
        "print(\"One-Hot Encoded DataFrame:\")\n",
        "print(one_hot_encoded_df)\n",
        "print(\"-\" * 50)\n",
        "\n",
        "# Print a friendly closing message.\n",
        "print(\"Program finished. You can now use this encoded data for machine learning tasks.\")\n"
      ],
      "metadata": {
        "colab": {
          "base_uri": "https://localhost:8080/"
        },
        "id": "rQS4vLHOVAYz",
        "outputId": "e669201e-068a-415a-e86b-4c8848d5b68a"
      },
      "execution_count": 2,
      "outputs": [
        {
          "output_type": "stream",
          "name": "stdout",
          "text": [
            "Hello! This program will demonstrate how to perform one-hot encoding.\n",
            "--------------------------------------------------\n",
            "Original DataFrame:\n",
            "   Color\n",
            "0    Red\n",
            "1  Green\n",
            "2   Blue\n",
            "3  Green\n",
            "4    Red\n",
            "\n",
            "--------------------------------------------------\n",
            "One-Hot Encoded DataFrame:\n",
            "   Is_Blue  Is_Green  Is_Red\n",
            "0    False     False    True\n",
            "1    False      True   False\n",
            "2     True     False   False\n",
            "3    False      True   False\n",
            "4    False     False    True\n",
            "--------------------------------------------------\n",
            "Program finished. You can now use this encoded data for machine learning tasks.\n"
          ]
        }
      ]
    },
    {
      "cell_type": "markdown",
      "source": [
        "Question 8: Write a Python script to:\n",
        "● Generate 1000 samples from a normal distribution.\n",
        "● Introduce 50 random missing values.\n",
        "● Fill missing values with the column mean.\n",
        "● Plot a histogram before and after imputation.\n",
        "\n",
        "Answer-"
      ],
      "metadata": {
        "id": "IKR9_bvGVOsK"
      }
    },
    {
      "cell_type": "code",
      "source": [
        "import numpy as np\n",
        "import pandas as pd\n",
        "import matplotlib.pyplot as plt\n",
        "\n",
        "# Set a random seed for reproducibility.\n",
        "np.random.seed(42)\n",
        "\n",
        "# ---- 1. Generate 1000 samples from a normal distribution ----\n",
        "# Use numpy to generate random numbers following a normal (Gaussian) distribution.\n",
        "data = np.random.normal(loc=50, scale=10, size=1000)\n",
        "\n",
        "# Create a pandas DataFrame from the generated data for easier manipulation.\n",
        "df = pd.DataFrame(data, columns=['value'])\n",
        "print(\"Original DataFrame head:\")\n",
        "print(df.head())\n",
        "print(\"\\n\" + \"-\" * 50)\n",
        "\n",
        "# ---- 2. Introduce 50 random missing values ----\n",
        "# Choose 50 random indices to replace with NaN (Not a Number).\n",
        "# We'll use np.random.randint to get random integer indices.\n",
        "num_missing = 50\n",
        "missing_indices = np.random.randint(0, len(df), size=num_missing)\n",
        "df.loc[missing_indices, 'value'] = np.nan\n",
        "\n",
        "print(f\"DataFrame after introducing {num_missing} missing values:\")\n",
        "print(df.loc[missing_indices].head()) # Show a few of the now-missing values\n",
        "print(\"\\n\" + \"-\" * 50)\n",
        "\n",
        "# ---- 3. Fill missing values with the column mean ----\n",
        "# Calculate the mean of the 'value' column, ignoring NaN values.\n",
        "column_mean = df['value'].mean()\n",
        "print(f\"Calculated mean of the column: {column_mean:.2f}\")\n",
        "\n",
        "# Use the .fillna() method to replace all NaN values with the calculated mean.\n",
        "df_imputed = df.copy() # It's good practice to work on a copy to preserve the original.\n",
        "df_imputed['value'].fillna(column_mean, inplace=True)\n",
        "\n",
        "print(\"\\nDataFrame after imputation (head):\")\n",
        "print(df_imputed.head())\n",
        "print(\"-\" * 50)\n",
        "\n",
        "# ---- 4. Plot histograms before and after imputation ----\n",
        "# Create a figure with two subplots side-by-side for comparison.\n",
        "fig, axes = plt.subplots(1, 2, figsize=(12, 5))\n",
        "fig.suptitle('Distribution Before and After Mean Imputation', fontsize=16)\n",
        "\n",
        "# Plot the histogram of the original data (with missing values).\n",
        "# The hist() function automatically handles NaNs and only plots the valid data.\n",
        "axes[0].hist(df['value'].dropna(), bins=30, color='skyblue', edgecolor='black')\n",
        "axes[0].set_title('Before Imputation')\n",
        "axes[0].set_xlabel('Value')\n",
        "axes[0].set_ylabel('Frequency')\n",
        "\n",
        "# Plot the histogram of the imputed data.\n",
        "axes[1].hist(df_imputed['value'], bins=30, color='salmon', edgecolor='black')\n",
        "axes[1].set_title('After Imputation')\n",
        "axes[1].set_xlabel('Value')\n",
        "axes[1].set_ylabel('Frequency')\n",
        "\n",
        "# Display the plots.\n",
        "plt.tight_layout(rect=[0, 0, 1, 0.96]) # Adjust layout to make room for suptitle\n",
        "plt.show()\n",
        "\n",
        "# Print a concluding message.\n",
        "print(\"Histograms have been plotted. The left plot shows the distribution with missing values (NaNs ignored),\")\n",
        "print(\"and the right plot shows the distribution after filling the missing values with the mean.\")"
      ],
      "metadata": {
        "colab": {
          "base_uri": "https://localhost:8080/",
          "height": 1000
        },
        "id": "BJ_rGl32VWeQ",
        "outputId": "a3603af1-5f02-4202-8cd4-2abf0d8da66d"
      },
      "execution_count": 3,
      "outputs": [
        {
          "output_type": "stream",
          "name": "stdout",
          "text": [
            "Original DataFrame head:\n",
            "       value\n",
            "0  54.967142\n",
            "1  48.617357\n",
            "2  56.476885\n",
            "3  65.230299\n",
            "4  47.658466\n",
            "\n",
            "--------------------------------------------------\n",
            "DataFrame after introducing 50 missing values:\n",
            "     value\n",
            "886    NaN\n",
            "427    NaN\n",
            "304    NaN\n",
            "871    NaN\n",
            "970    NaN\n",
            "\n",
            "--------------------------------------------------\n",
            "Calculated mean of the column: 50.26\n",
            "\n",
            "DataFrame after imputation (head):\n",
            "       value\n",
            "0  54.967142\n",
            "1  48.617357\n",
            "2  56.476885\n",
            "3  65.230299\n",
            "4  47.658466\n",
            "--------------------------------------------------\n"
          ]
        },
        {
          "output_type": "stream",
          "name": "stderr",
          "text": [
            "/tmp/ipython-input-4085048904.py:36: FutureWarning: A value is trying to be set on a copy of a DataFrame or Series through chained assignment using an inplace method.\n",
            "The behavior will change in pandas 3.0. This inplace method will never work because the intermediate object on which we are setting values always behaves as a copy.\n",
            "\n",
            "For example, when doing 'df[col].method(value, inplace=True)', try using 'df.method({col: value}, inplace=True)' or df[col] = df[col].method(value) instead, to perform the operation inplace on the original object.\n",
            "\n",
            "\n",
            "  df_imputed['value'].fillna(column_mean, inplace=True)\n"
          ]
        },
        {
          "output_type": "display_data",
          "data": {
            "text/plain": [
              "<Figure size 1200x500 with 2 Axes>"
            ],
            "image/png": "[encoded data removed]"
          },
          "metadata": {}
        },
        {
          "output_type": "stream",
          "name": "stdout",
          "text": [
            "Histograms have been plotted. The left plot shows the distribution with missing values (NaNs ignored),\n",
            "and the right plot shows the distribution after filling the missing values with the mean.\n"
          ]
        }
      ]
    },
    {
      "cell_type": "markdown",
      "source": [
        "Question 9: Implement Min-Max scaling on the following list of numbers [2, 5, 10, 15,\n",
        "20] using sklearn.preprocessing.MinMaxScaler. Print the scaled array    \n",
        "\n",
        "Answer-"
      ],
      "metadata": {
        "id": "niZ8mBiVVjH-"
      }
    },
    {
      "cell_type": "code",
      "source": [
        "import numpy as np\n",
        "from sklearn.preprocessing import MinMaxScaler\n",
        "\n",
        "# The list of numbers to be scaled.\n",
        "data = np.array([2, 5, 10, 15, 20]).reshape(-1, 1)\n",
        "\n",
        "# Initialize the MinMaxScaler.\n",
        "scaler = MinMaxScaler()\n",
        "\n",
        "# Fit the scaler to the data and transform the data.\n",
        "scaled_data = scaler.fit_transform(data)\n",
        "\n",
        "# Print the scaled array.\n",
        "print(\"Original data:\", data.flatten())\n",
        "print(\"Scaled data:\", scaled_data.flatten())"
      ],
      "metadata": {
        "colab": {
          "base_uri": "https://localhost:8080/"
        },
        "id": "4pDh5rgRVqRw",
        "outputId": "24c7bb9a-e4e9-42ed-9dc2-07a4949527d6"
      },
      "execution_count": 4,
      "outputs": [
        {
          "output_type": "stream",
          "name": "stdout",
          "text": [
            "Original data: [ 2  5 10 15 20]\n",
            "Scaled data: [0.         0.16666667 0.44444444 0.72222222 1.        ]\n"
          ]
        }
      ]
    },
    {
      "cell_type": "markdown",
      "source": [
        "Question 10: You are working as a data scientist for a retail company. You receive a customer\n",
        "transaction dataset that contains:\n",
        "● Missing ages,\n",
        "● Outliers in transaction amount,\n",
        "● A highly imbalanced target (fraud vs. non-fraud),\n",
        "● Categorical variables like payment method.\n",
        "Explain the step-by-step data preparation plan you’d follow before training a machine learning\n",
        "model. Include how you’d address missing data, outliers, imbalance, and encoding.     \n",
        "Answer- 1. Handling Missing Data (Ages)\n",
        "Missing data is a common problem. For the missing age values, you have a few options. Since age is a numerical feature, a simple and effective method is to use imputation. You can fill the missing values with the mean or, more robustly, the median of the existing ages. The median is a better choice because it's less affected by outliers. Another approach is to use a model-based imputation method like K-Nearest Neighbors (KNN), which predicts the missing values based on similar data points.\n",
        "\n",
        "2. Addressing Outliers (Transaction Amount)\n",
        "Outliers in the transaction_amount can skew your model's performance. First, you should identify them using visualization techniques like a box plot or statistical methods like the Interquartile Range (IQR). To handle them, you can perform capping or winsorization, which involves replacing values beyond a certain percentile (e.g., the 99th percentile) with that percentile's value. Alternatively, a logarithmic transformation can compress the range of the data, making outliers less prominent.\n",
        "\n",
        "3. Encoding Categorical Variables (Payment Method)\n",
        "Machine learning models work with numbers, so you must convert the categorical payment_method into a numerical format. The best approach for a nominal variable like this is One-Hot Encoding. This creates a new binary column for each unique payment method (e.g., is_credit_card, is_debit_card), with a 1 indicating the presence of that method and a 0 otherwise.\n",
        "\n",
        "4. Handling Class Imbalance (Fraud vs. Non-Fraud)\n",
        "The highly imbalanced target is a critical issue. If left unaddressed, the model will likely predict the majority class (non-fraud) with high accuracy but fail to identify the fraudulent cases. A popular solution is oversampling the minority class (fraudulent transactions). A common technique is SMOTE (Synthetic Minority Over-sampling Technique), which creates synthetic data points for the minority class, balancing the dataset without simply duplicating existing records.\n",
        "\n",
        "5. Scaling Numerical Features\n",
        "Finally, you should scale all your numerical features (age and transaction_amount). This is essential for algorithms sensitive to the scale of input variables. Min-Max scaling is a great choice, as it rescales features to a specific range (typically between 0 and 1), ensuring all features contribute equally to the model.     "
      ],
      "metadata": {
        "id": "-M8x6oddV0-g"
      }
    },
    {
      "cell_type": "markdown",
      "source": [],
      "metadata": {
        "id": "Js1ItnIoWi7u"
      }
    }
  ]
}